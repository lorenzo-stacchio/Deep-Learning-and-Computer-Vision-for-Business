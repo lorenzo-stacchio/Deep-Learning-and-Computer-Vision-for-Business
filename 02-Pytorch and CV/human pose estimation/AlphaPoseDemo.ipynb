{
  "nbformat": 4,
  "nbformat_minor": 0,
  "metadata": {
    "colab": {
      "provenance": [],
      "gpuType": "T4"
    },
    "kernelspec": {
      "name": "python3",
      "display_name": "Python 3"
    },
    "accelerator": "GPU"
  },
  "cells": [
    {
      "metadata": {
        "id": "ZMUdgWmTFWEs"
      },
      "cell_type": "markdown",
      "source": [
        "# Pose Detection with AlphaPhose\n",
        "\n",
        "This notebook uses an open source project [MVIG-SJTU/AlphaPose](https://github.com/MVIG-SJTU/AlphaPose) to detect/track multi person poses on a given youtube video.\n",
        "\n",
        "https://medium.com/the-owl/changing-the-python-version-on-google-colab-245fd510d3aeinstall-python-3-8-kernel-in-google-colaboratory/71511943#71511943\n",
        "\n",
        "## Install Custom Python version and AlphaPose"
      ]
    },
    {
      "cell_type": "code",
      "source": [
        "!apt-get update\n",
        "!apt-get install -y build-essential libssl-dev libffi-dev libbz2-dev libncurses5-dev libncursesw5-dev zlib1g-dev libjpeg-dev libpng-dev"
      ],
      "metadata": {
        "id": "oAbDA3TOAeGH"
      },
      "execution_count": null,
      "outputs": []
    },
    {
      "cell_type": "code",
      "source": [
        "# Crea ambiente virtuale con Python 3.9\n",
        "!apt-get install python3.9 python3.9-distutils\n",
        "!update-alternatives --install /usr/bin/python3 python3 /usr/bin/python3.9 1\n",
        "!update-alternatives --config python3\n",
        "!apt-get install python3-pip\n",
        "!python3 -m pip install --upgrade pip --user"
      ],
      "metadata": {
        "id": "buQZ8EIG9SCS"
      },
      "execution_count": null,
      "outputs": []
    },
    {
      "cell_type": "code",
      "source": [
        "! python3 -m pip install \"numpy<2.0\"\n",
        "! python3 -m pip install matplotlib-inline\n",
        "! python3 -m pip install visdom"
      ],
      "metadata": {
        "id": "JCl0DkuSBGa1"
      },
      "execution_count": null,
      "outputs": []
    },
    {
      "cell_type": "code",
      "source": [
        "! python --version"
      ],
      "metadata": {
        "id": "hUp_qeAX9dZX"
      },
      "execution_count": null,
      "outputs": []
    },
    {
      "cell_type": "code",
      "source": [
        "# ! pip3 install torch torchvision --extra-index-url https://download.pytorch.org/whl/cu113\n",
        "! pip3 install torch==1.12.1+cu113 torchvision==0.13.1+cu113 torchaudio==0.12.1 --extra-index-url https://download.pytorch.org/whl/cu113\n",
        "! pip install scipy\n",
        "! pip install pillow\n",
        "! pip install pyyaml\n",
        "! pip install tqdm matplotlib nibabel pandas opencv-python gdown"
      ],
      "metadata": {
        "id": "tMe0Y-vESL2J"
      },
      "execution_count": null,
      "outputs": []
    },
    {
      "cell_type": "code",
      "source": [
        "! sudo curl -L https://github.com/yt-dlp/yt-dlp/releases/latest/download/yt-dlp -o /usr/local/bin/yt-dlp\n",
        "! sudo chmod a+rx /usr/local/bin/yt-dlp"
      ],
      "metadata": {
        "id": "lMxCDvSJrsjy"
      },
      "execution_count": null,
      "outputs": []
    },
    {
      "cell_type": "code",
      "source": [
        "!python -m pip install cython\n",
        "!sudo apt-get install libyaml-dev"
      ],
      "metadata": {
        "id": "3tMn5RPNL3fg"
      },
      "execution_count": null,
      "outputs": []
    },
    {
      "cell_type": "code",
      "source": [
        "import os\n",
        "! rm -rf /content/AlphaPose\n",
        "os.chdir('/content/')"
      ],
      "metadata": {
        "id": "ONCR4LUEL5wI"
      },
      "execution_count": null,
      "outputs": []
    },
    {
      "cell_type": "code",
      "source": [
        "# ! git clone https://github.com/MVIG-SJTU/AlphaPose.git\n",
        "# os.chdir('/content/AlphaPose')\n",
        "# print(os.getcwd())\n",
        "# ! python setup.py build develop"
      ],
      "metadata": {
        "id": "0byFELRXOghf"
      },
      "execution_count": null,
      "outputs": []
    },
    {
      "metadata": {
        "id": "JQVH0gE47FE9"
      },
      "cell_type": "code",
      "source": [
        "import os\n",
        "from os.path import exists, join, basename, splitext\n",
        "\n",
        "import time\n",
        "import matplotlib\n",
        "import matplotlib.pylab as plt\n",
        "plt.rcParams[\"axes.grid\"] = False\n",
        "\n",
        "from IPython.display import YouTubeVideo\n",
        "\n",
        "git_repo_url = 'https://github.com/MVIG-SJTU/AlphaPose.git'\n",
        "project_name = splitext(basename(git_repo_url))[0]\n",
        "if not exists(project_name):\n",
        "  # clone and install dependencies\n",
        "  !git clone -q -b pytorch --depth 1 $git_repo_url\n",
        "  # !cd $project_name && pip install -q -r requirements.txt\n",
        "\n",
        "import sys\n",
        "sys.path.append(project_name)"
      ],
      "execution_count": null,
      "outputs": []
    },
    {
      "metadata": {
        "id": "ibzztWRQF3-f"
      },
      "cell_type": "markdown",
      "source": [
        "## Download pretrained models"
      ]
    },
    {
      "cell_type": "code",
      "source": [
        "import gdown\n",
        "import requests\n",
        "\n",
        "# Replace 'your-file-id' with the actual file ID from Google Drive\n",
        "file_id = '1OPORTWB2cwd5YTVBX-NE8fsauZJWsrtW'\n",
        "pretrained_model_path = join(project_name, 'models/sppe/duc_se.pth')\n",
        "gdown.download(f\"https://drive.google.com/uc?id={file_id}\", pretrained_model_path, quiet=False)\n",
        "\n",
        "# yolo_file_id = '1D47msNOOiJKvPOXlnpyzdKA3k6E97NTC'\n",
        "yolo_pretrained_model_path = join(project_name, 'models/yolo/yolov3-spp.weights')\n",
        "# gdown.download(f\"https://drive.google.com/uc?id={file_id}\", yolo_pretrained_model_path, quiet=False)\n",
        "\n",
        "# Make a GET request to download the file\n",
        "response = requests.get(\"https://pjreddie.com/media/files/yolov3-spp.weights\", stream=True)\n",
        "\n",
        "# Save the file to your local system\n",
        "with open(yolo_pretrained_model_path, 'wb') as file:\n",
        "    for chunk in response.iter_content(chunk_size=1024):\n",
        "        if chunk:\n",
        "            file.write(chunk)"
      ],
      "metadata": {
        "id": "lrtzPYxNGr3-"
      },
      "execution_count": null,
      "outputs": []
    },
    {
      "cell_type": "code",
      "source": [
        "## fix code for AlphaPose\n",
        "\n",
        "with open(\"/content/AlphaPose/fn.py\", \"r\") as f:\n",
        "    python_file = \"\".join(f.readlines())\n",
        "\n",
        "python_file = python_file.replace(\"from torch._six import string_classes, int_classes\", \"from torch._six import string_classes\\nint_classes = int\")\n",
        "\n",
        "with open(\"/content/AlphaPose/fn.py\", \"w\") as f:\n",
        "    f.write(python_file)"
      ],
      "metadata": {
        "id": "NBUU6B4jVfR4"
      },
      "execution_count": null,
      "outputs": []
    },
    {
      "metadata": {
        "id": "fMJI7RgmF_xO"
      },
      "cell_type": "markdown",
      "source": [
        "## Detect poses on a test video\n",
        "\n",
        "We are going to detect poses on the following youtube video:"
      ]
    },
    {
      "metadata": {
        "id": "cxFKSe_j9I_f"
      },
      "cell_type": "code",
      "source": [
        "YOUTUBE_ID = '0vnMdFmZ3P8'\n",
        "\n",
        "YouTubeVideo(YOUTUBE_ID)"
      ],
      "execution_count": null,
      "outputs": []
    },
    {
      "metadata": {
        "id": "MJblYRLkGTU2"
      },
      "cell_type": "markdown",
      "source": [
        "Download the above youtube video, cut the first 5 seconds and do the pose detection on that 5 seconds:"
      ]
    },
    {
      "cell_type": "code",
      "source": [
        "# ! rm -df youtube.mp4\n",
        "# download the youtube with the given ID\n",
        "! yt-dlp --output \"youtube.mp4\" https://www.youtube.com/watch?v=$YOUTUBE_ID\n",
        "# cut the first 5 seconds\n",
        "!ffmpeg -y -loglevel info -i youtube.mp4 -t 5 video.mp4"
      ],
      "metadata": {
        "id": "zdUws7vKVZ6I"
      },
      "execution_count": null,
      "outputs": []
    },
    {
      "metadata": {
        "id": "G9pi9T2t_3fR"
      },
      "cell_type": "code",
      "source": [
        "# run AlphaPose_video on these 5 seconds video\n",
        "# !rm -rf AlphaPose_video.avi\n",
        "\n",
        "!cd AlphaPose && python3 video_demo.py --sp --video ../video.mp4 --outdir .. --save_video --vis_fast\n",
        "#! python3 AlphaPose/video_demo.py --sp --video video.mp4 --outdir . --save_video\n",
        "\n",
        "# convert the result into MP4\n",
        "!ffmpeg -y -loglevel info -i AlphaPose_video.avi AlphaPose_video.mp4"
      ],
      "execution_count": null,
      "outputs": []
    },
    {
      "metadata": {
        "id": "KbqZEYmlGfQT"
      },
      "cell_type": "markdown",
      "source": [
        "Finally, visualize the result:"
      ]
    },
    {
      "metadata": {
        "id": "ZPIkVY3uBqB4"
      },
      "cell_type": "code",
      "source": [
        "def show_local_mp4_video(file_name, width=640, height=480):\n",
        "  import io\n",
        "  import base64\n",
        "  from IPython.display import HTML\n",
        "  video_encoded = base64.b64encode(io.open(file_name, 'rb').read())\n",
        "  return HTML(data='''<video width=\"{0}\" height=\"{1}\" alt=\"test\" controls>\n",
        "                        <source src=\"data:video/mp4;base64,{2}\" type=\"video/mp4\" />\n",
        "                      </video>'''.format(width, height, video_encoded.decode('ascii')))\n",
        "\n",
        "show_local_mp4_video('AlphaPose_video.mp4', width=960, height=720)"
      ],
      "execution_count": null,
      "outputs": []
    }
  ]
}